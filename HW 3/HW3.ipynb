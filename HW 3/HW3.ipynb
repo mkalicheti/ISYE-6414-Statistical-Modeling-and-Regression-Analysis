{
 "cells": [
  {
   "cell_type": "code",
   "execution_count": 1,
   "id": "3f083369",
   "metadata": {},
   "outputs": [
    {
     "data": {
      "image/png": "[encoded data removed]",
      "text/plain": [
       "plot without title"
      ]
     },
     "metadata": {},
     "output_type": "display_data"
    }
   ],
   "source": [
    "data = read.csv('C:/Users/manvi/Documents/GT Acads/Fall 2022/Regression/HW3/6414_HW3_Clean.csv')\n",
    "Demand = data[,1]\n",
    "PriceDif = data[,2]\n",
    "plot(PriceDif, Demand, xlab = \"Price Difference\", ylab = \"Demand\")\n"
   ]
  },
  {
   "cell_type": "code",
   "execution_count": 2,
   "id": "7a28f944",
   "metadata": {},
   "outputs": [
    {
     "data": {
      "text/plain": [
       "\n",
       "Call:\n",
       "lm(formula = Demand ~ PriceDif)\n",
       "\n",
       "Residuals:\n",
       "     Min       1Q   Median       3Q      Max \n",
       "-0.45713 -0.21121 -0.04898  0.14314  0.84961 \n",
       "\n",
       "Coefficients:\n",
       "            Estimate Std. Error t value Pr(>|t|)    \n",
       "(Intercept)  7.81409    0.07988   97.82  < 2e-16 ***\n",
       "PriceDif     2.66521    0.25850   10.31 4.88e-11 ***\n",
       "---\n",
       "Signif. codes:  0 '***' 0.001 '**' 0.01 '*' 0.05 '.' 0.1 ' ' 1\n",
       "\n",
       "Residual standard error: 0.3166 on 28 degrees of freedom\n",
       "Multiple R-squared:  0.7915,\tAdjusted R-squared:  0.7841 \n",
       "F-statistic: 106.3 on 1 and 28 DF,  p-value: 4.881e-11\n"
      ]
     },
     "metadata": {},
     "output_type": "display_data"
    }
   ],
   "source": [
    "model = lm(Demand ~ PriceDif)\n",
    "summary(model)"
   ]
  },
  {
   "cell_type": "code",
   "execution_count": 20,
   "id": "004c8017",
   "metadata": {},
   "outputs": [
    {
     "data": {
      "text/html": [
       "<table>\n",
       "<thead><tr><th scope=col>fit</th><th scope=col>lwr</th><th scope=col>upr</th></tr></thead>\n",
       "<tbody>\n",
       "\t<tr><td>8.080609</td><td>7.947878</td><td>8.21334 </td></tr>\n",
       "</tbody>\n",
       "</table>\n"
      ],
      "text/latex": [
       "\\begin{tabular}{r|lll}\n",
       " fit & lwr & upr\\\\\n",
       "\\hline\n",
       "\t 8.080609 & 7.947878 & 8.21334 \\\\\n",
       "\\end{tabular}\n"
      ],
      "text/markdown": [
       "\n",
       "| fit | lwr | upr |\n",
       "|---|---|---|\n",
       "| 8.080609 | 7.947878 | 8.21334  |\n",
       "\n"
      ],
      "text/plain": [
       "  fit      lwr      upr    \n",
       "1 8.080609 7.947878 8.21334"
      ]
     },
     "metadata": {},
     "output_type": "display_data"
    }
   ],
   "source": [
    "new = data.frame(PriceDif = 0.10)\n",
    "q7 = predict.lm(model, new, interval = \"confidence\", level = 0.95)\n",
    "q7"
   ]
  },
  {
   "cell_type": "code",
   "execution_count": 21,
   "id": "6aa25a76",
   "metadata": {},
   "outputs": [
    {
     "data": {
      "text/html": [
       "<table>\n",
       "<thead><tr><th scope=col>fit</th><th scope=col>lwr</th><th scope=col>upr</th></tr></thead>\n",
       "<tbody>\n",
       "\t<tr><td>8.080609</td><td>7.418719</td><td>8.7425  </td></tr>\n",
       "</tbody>\n",
       "</table>\n"
      ],
      "text/latex": [
       "\\begin{tabular}{r|lll}\n",
       " fit & lwr & upr\\\\\n",
       "\\hline\n",
       "\t 8.080609 & 7.418719 & 8.7425  \\\\\n",
       "\\end{tabular}\n"
      ],
      "text/markdown": [
       "\n",
       "| fit | lwr | upr |\n",
       "|---|---|---|\n",
       "| 8.080609 | 7.418719 | 8.7425   |\n",
       "\n"
      ],
      "text/plain": [
       "  fit      lwr      upr   \n",
       "1 8.080609 7.418719 8.7425"
      ]
     },
     "metadata": {},
     "output_type": "display_data"
    }
   ],
   "source": [
    "new = data.frame(PriceDif = 0.10)\n",
    "q8 = predict.lm(model, new, interval = \"predict\", level = 0.95)\n",
    "q8"
   ]
  },
  {
   "cell_type": "code",
   "execution_count": 22,
   "id": "c1971250",
   "metadata": {},
   "outputs": [
    {
     "data": {
      "text/html": [
       "<table>\n",
       "<thead><tr><th scope=col>fit</th><th scope=col>lwr</th><th scope=col>upr</th></tr></thead>\n",
       "<tbody>\n",
       "\t<tr><td>8.480391</td><td>8.36042 </td><td>8.600362</td></tr>\n",
       "</tbody>\n",
       "</table>\n"
      ],
      "text/latex": [
       "\\begin{tabular}{r|lll}\n",
       " fit & lwr & upr\\\\\n",
       "\\hline\n",
       "\t 8.480391 & 8.36042  & 8.600362\\\\\n",
       "\\end{tabular}\n"
      ],
      "text/markdown": [
       "\n",
       "| fit | lwr | upr |\n",
       "|---|---|---|\n",
       "| 8.480391 | 8.36042  | 8.600362 |\n",
       "\n"
      ],
      "text/plain": [
       "  fit      lwr     upr     \n",
       "1 8.480391 8.36042 8.600362"
      ]
     },
     "metadata": {},
     "output_type": "display_data"
    }
   ],
   "source": [
    "new = data.frame(PriceDif = 0.25)\n",
    "q9 = predict.lm(model, new, interval = \"confidence\", level = 0.95)\n",
    "q9"
   ]
  },
  {
   "cell_type": "code",
   "execution_count": 49,
   "id": "3d6dde1a",
   "metadata": {},
   "outputs": [
    {
     "data": {
      "text/html": [
       "0.132730642733149"
      ],
      "text/latex": [
       "0.132730642733149"
      ],
      "text/markdown": [
       "0.132730642733149"
      ],
      "text/plain": [
       "[1] 0.1327306"
      ]
     },
     "metadata": {},
     "output_type": "display_data"
    }
   ],
   "source": [
    "q7hl = (q7[,'upr'] - q7[,'lwr']) /2 \n",
    "q7hl"
   ]
  },
  {
   "cell_type": "code",
   "execution_count": 50,
   "id": "6c0d7c45",
   "metadata": {},
   "outputs": [
    {
     "data": {
      "text/html": [
       "0.661890519414294"
      ],
      "text/latex": [
       "0.661890519414294"
      ],
      "text/markdown": [
       "0.661890519414294"
      ],
      "text/plain": [
       "[1] 0.6618905"
      ]
     },
     "metadata": {},
     "output_type": "display_data"
    }
   ],
   "source": [
    "q8hl = (q8[,'upr'] - q8[,'lwr']) /2\n",
    "q8hl"
   ]
  },
  {
   "cell_type": "code",
   "execution_count": 51,
   "id": "f303cda9",
   "metadata": {},
   "outputs": [
    {
     "data": {
      "text/html": [
       "0.119970889973496"
      ],
      "text/latex": [
       "0.119970889973496"
      ],
      "text/markdown": [
       "0.119970889973496"
      ],
      "text/plain": [
       "[1] 0.1199709"
      ]
     },
     "metadata": {},
     "output_type": "display_data"
    }
   ],
   "source": [
    "q9hl = (q9[,'upr'] - q9[,'lwr']) /2\n",
    "q9hl"
   ]
  },
  {
   "cell_type": "code",
   "execution_count": 48,
   "id": "c84327c8",
   "metadata": {},
   "outputs": [
    {
     "data": {
      "text/html": [
       "0.213333333333333"
      ],
      "text/latex": [
       "0.213333333333333"
      ],
      "text/markdown": [
       "0.213333333333333"
      ],
      "text/plain": [
       "[1] 0.2133333"
      ]
     },
     "metadata": {},
     "output_type": "display_data"
    }
   ],
   "source": [
    "mean(PriceDif)"
   ]
  }
 ],
 "metadata": {
  "kernelspec": {
   "display_name": "R",
   "language": "R",
   "name": "ir"
  },
  "language_info": {
   "codemirror_mode": "r",
   "file_extension": ".r",
   "mimetype": "text/x-r-source",
   "name": "R",
   "pygments_lexer": "r",
   "version": "3.6.1"
  }
 },
 "nbformat": 4,
 "nbformat_minor": 5
}
