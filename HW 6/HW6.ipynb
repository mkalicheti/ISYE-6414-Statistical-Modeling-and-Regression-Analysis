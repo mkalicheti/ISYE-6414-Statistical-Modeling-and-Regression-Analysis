{
 "cells": [
  {
   "cell_type": "markdown",
   "id": "6b4c2e56",
   "metadata": {},
   "source": [
    "# ISYE 6414 - HW6 #\n",
    "## Manvitha Kalicheti ##\n",
    "### gtID: 903838438 ###"
   ]
  },
  {
   "cell_type": "code",
   "execution_count": 1,
   "id": "30e8a427",
   "metadata": {},
   "outputs": [
    {
     "name": "stderr",
     "output_type": "stream",
     "text": [
      "Loading required package: carData\n"
     ]
    }
   ],
   "source": [
    "library(car)"
   ]
  },
  {
   "cell_type": "code",
   "execution_count": 2,
   "id": "e4360d6c",
   "metadata": {},
   "outputs": [],
   "source": [
    "data = read.csv('HW5ShipmentData.csv')"
   ]
  },
  {
   "cell_type": "markdown",
   "id": "d58c4372",
   "metadata": {},
   "source": [
    "<b> Q1 <b/>"
   ]
  },
  {
   "cell_type": "code",
   "execution_count": 3,
   "id": "749a3048",
   "metadata": {},
   "outputs": [],
   "source": [
    "model = lm(Cost ~ Weight + Distance + I(Weight^2) + I(Weight*Distance), data = data)"
   ]
  },
  {
   "cell_type": "code",
   "execution_count": 4,
   "id": "893b571c",
   "metadata": {},
   "outputs": [
    {
     "data": {
      "text/plain": [
       "\n",
       "Call:\n",
       "lm(formula = Cost ~ Weight + Distance + I(Weight^2) + I(Weight * \n",
       "    Distance), data = data)\n",
       "\n",
       "Residuals:\n",
       "    Min      1Q  Median      3Q     Max \n",
       "-0.7487 -0.2558  0.0532  0.2266  0.9142 \n",
       "\n",
       "Coefficients:\n",
       "                       Estimate Std. Error t value Pr(>|t|)    \n",
       "(Intercept)           0.4746969  0.4584500   1.035 0.316870    \n",
       "Weight               -0.5781705  0.1706879  -3.387 0.004062 ** \n",
       "Distance              0.0090777  0.0026535   3.421 0.003791 ** \n",
       "I(Weight^2)           0.0867388  0.0193380   4.485 0.000436 ***\n",
       "I(Weight * Distance)  0.0072587  0.0006176  11.753 5.74e-09 ***\n",
       "---\n",
       "Signif. codes:  0 '***' 0.001 '**' 0.01 '*' 0.05 '.' 0.1 ' ' 1\n",
       "\n",
       "Residual standard error: 0.4346 on 15 degrees of freedom\n",
       "Multiple R-squared:  0.9937,\tAdjusted R-squared:  0.9921 \n",
       "F-statistic: 594.6 on 4 and 15 DF,  p-value: 2.541e-16\n"
      ]
     },
     "metadata": {},
     "output_type": "display_data"
    }
   ],
   "source": [
    "summary(model)"
   ]
  },
  {
   "cell_type": "markdown",
   "id": "e29953b8",
   "metadata": {},
   "source": [
    "Here, $y = \\beta_0 +\\beta_1 x_1 + \\beta_2 x_2 + \\beta_3 x_1^2 + \\beta_4 x_1 x_2 + \\epsilon$ \n",
    "where $x_1 = $ package weight (in pounds) and $x_2 = $ distance shipped (in miles). \n",
    "\n",
    "With $\\alpha = 0.05$, $\\beta_1$, $\\beta_2$, $\\beta_3$ and $\\beta_4$ are significant as all their $p-values$ are $<\\alpha$. $\\beta_0$ is not significant with $p-value = 0.31 > \\alpha$."
   ]
  },
  {
   "cell_type": "markdown",
   "id": "82762756",
   "metadata": {},
   "source": [
    "<b> Q2 <b/>"
   ]
  },
  {
   "cell_type": "markdown",
   "id": "7589c3aa",
   "metadata": {},
   "source": [
    "With $x_1 = 5$, $y$ changes by $\\beta_2 + \\beta_4 x_1$ when $x_2$ increases by one mile.\n",
    "\n",
    "$\\delta y = \\beta_2 + \\beta_4 x_1 = \\beta_2 + 5 \\beta_4 = 0.0090777 + 5(0.0072587) = 0.0453712$\n",
    "\n",
    "The cost of shipment increases by $\\$0.0453712$ when\n",
    "the weight is held constant at 5 pounds and distance inceases by a mile."
   ]
  },
  {
   "cell_type": "markdown",
   "id": "87ad14af",
   "metadata": {},
   "source": [
    "<b> Q3 <b/>"
   ]
  },
  {
   "cell_type": "code",
   "execution_count": 5,
   "id": "d24744f9",
   "metadata": {},
   "outputs": [
    {
     "data": {
      "text/html": [
       "7.97633985770429e-18"
      ],
      "text/latex": [
       "7.97633985770429e-18"
      ],
      "text/markdown": [
       "7.97633985770429e-18"
      ],
      "text/plain": [
       "[1] 7.97634e-18"
      ]
     },
     "metadata": {},
     "output_type": "display_data"
    }
   ],
   "source": [
    "res = resid(model)\n",
    "mean(res)"
   ]
  },
  {
   "cell_type": "markdown",
   "id": "8339d126",
   "metadata": {},
   "source": [
    "Expectation (or in this case, mean) of the residuals is nearly zero."
   ]
  },
  {
   "cell_type": "code",
   "execution_count": 6,
   "id": "02002ce7",
   "metadata": {},
   "outputs": [
    {
     "data": {
      "image/png": "[encoded data removed]",
      "text/plain": [
       "plot without title"
      ]
     },
     "metadata": {},
     "output_type": "display_data"
    }
   ],
   "source": [
    "options(repr.plot.width = 3, repr.plot.height = 3)\n",
    "plot(fitted(model), res)\n",
    "abline(0,0)"
   ]
  },
  {
   "cell_type": "markdown",
   "id": "1ba238bb",
   "metadata": {},
   "source": [
    "The variance of the residuals seems to increase at higher fitted values $\\implies$ they are not of constant variance.\n",
    "\n",
    "The identical distribution assumption is violated."
   ]
  },
  {
   "cell_type": "code",
   "execution_count": 7,
   "id": "e32c18c2",
   "metadata": {},
   "outputs": [
    {
     "data": {
      "image/png": "[encoded data removed]",
      "text/plain": [
       "Plot with title \"Normal Q-Q Plot\""
      ]
     },
     "metadata": {},
     "output_type": "display_data"
    }
   ],
   "source": [
    "options(repr.plot.width = 3, repr.plot.height = 3)\n",
    "qqnorm(res)\n",
    "qqline(res)"
   ]
  },
  {
   "cell_type": "markdown",
   "id": "bb456e8f",
   "metadata": {},
   "source": [
    "The normality assumption seems fine from the QQ plot."
   ]
  },
  {
   "cell_type": "markdown",
   "id": "314cc6da",
   "metadata": {},
   "source": [
    "<b> Q4 <b/>"
   ]
  },
  {
   "cell_type": "markdown",
   "id": "86ca4201",
   "metadata": {},
   "source": [
    "In both models, the $E(\\epsilon_i) = 0$ holds.\n",
    "\n",
    "The normality assumption also holds for both, but seems to hold better here. \n",
    "\n",
    "The identical distribution assumption is less violated here than in the reduced model as there is no clear pattern in the complete model unlike the bowl shape we noticed in the reduced model."
   ]
  },
  {
   "cell_type": "markdown",
   "id": "431a31f9",
   "metadata": {},
   "source": [
    "<b> Q5 <b/>"
   ]
  },
  {
   "cell_type": "markdown",
   "id": "2d41b3eb",
   "metadata": {},
   "source": [
    "$H_0:$ The error terms are not autocorrelated.\n",
    "\n",
    "$H_a$: The error terms are positively or negatively correlated.\n",
    "\n",
    "$n = 24$\n",
    "\n",
    "$k = 3$\n",
    "\n",
    "$\\alpha/2 = 0.05$\n",
    "\n",
    "Durbin–Watson test statistic: $d = 0.829$\n",
    "\n",
    "From the tables, \n",
    "\n",
    "$d_{L,0.05} = 1.101$ and $d_{U,0.05} = 1.656$. \n",
    "\n",
    "Here, $d<d_{L,\\alpha/2}$. Hence we reject $H_0$. \n",
    "$\\implies$ The error terms are positively or negatively correlated.\n",
    "\n",
    "\n",
    "\n"
   ]
  },
  {
   "cell_type": "code",
   "execution_count": 8,
   "id": "0cbbcb1d",
   "metadata": {},
   "outputs": [],
   "source": [
    "data1 = read.csv('homework04Hospital.csv')"
   ]
  },
  {
   "cell_type": "code",
   "execution_count": 9,
   "id": "c5f8fe11",
   "metadata": {},
   "outputs": [],
   "source": [
    "model1 = lm(Hours~.,data = data1)"
   ]
  },
  {
   "cell_type": "markdown",
   "id": "0d04a133",
   "metadata": {},
   "source": [
    "<b> Q6 <b/>"
   ]
  },
  {
   "cell_type": "code",
   "execution_count": 10,
   "id": "a03ef987",
   "metadata": {
    "scrolled": true
   },
   "outputs": [
    {
     "data": {
      "text/html": [
       "<dl class=dl-horizontal>\n",
       "\t<dt>1</dt>\n",
       "\t\t<dd>-0.346041819889165</dd>\n",
       "\t<dt>2</dt>\n",
       "\t\t<dd>0.418441654281339</dd>\n",
       "\t<dt>3</dt>\n",
       "\t\t<dd>0.167655812250159</dd>\n",
       "\t<dt>4</dt>\n",
       "\t\t<dd>1.20758417481276</dd>\n",
       "\t<dt>5</dt>\n",
       "\t\t<dd>0.440226122495145</dd>\n",
       "\t<dt>6</dt>\n",
       "\t\t<dd>-0.807723376747137</dd>\n",
       "\t<dt>7</dt>\n",
       "\t\t<dd>0.692457807577267</dd>\n",
       "\t<dt>8</dt>\n",
       "\t\t<dd>1.10570456119942</dd>\n",
       "\t<dt>9</dt>\n",
       "\t\t<dd>-1.07103004215539</dd>\n",
       "\t<dt>10</dt>\n",
       "\t\t<dd>-1.3134905000325</dd>\n",
       "\t<dt>11</dt>\n",
       "\t\t<dd>1.39663117874807</dd>\n",
       "\t<dt>12</dt>\n",
       "\t\t<dd>-1.92935514424747</dd>\n",
       "\t<dt>13</dt>\n",
       "\t\t<dd>-0.700788004173128</dd>\n",
       "\t<dt>14</dt>\n",
       "\t\t<dd>-0.143453503317171</dd>\n",
       "\t<dt>15</dt>\n",
       "\t\t<dd>1.22487518080154</dd>\n",
       "\t<dt>16</dt>\n",
       "\t\t<dd>0.613304129045166</dd>\n",
       "</dl>\n"
      ],
      "text/latex": [
       "\\begin{description*}\n",
       "\\item[1] -0.346041819889165\n",
       "\\item[2] 0.418441654281339\n",
       "\\item[3] 0.167655812250159\n",
       "\\item[4] 1.20758417481276\n",
       "\\item[5] 0.440226122495145\n",
       "\\item[6] -0.807723376747137\n",
       "\\item[7] 0.692457807577267\n",
       "\\item[8] 1.10570456119942\n",
       "\\item[9] -1.07103004215539\n",
       "\\item[10] -1.3134905000325\n",
       "\\item[11] 1.39663117874807\n",
       "\\item[12] -1.92935514424747\n",
       "\\item[13] -0.700788004173128\n",
       "\\item[14] -0.143453503317171\n",
       "\\item[15] 1.22487518080154\n",
       "\\item[16] 0.613304129045166\n",
       "\\end{description*}\n"
      ],
      "text/markdown": [
       "1\n",
       ":   -0.3460418198891652\n",
       ":   0.4184416542813393\n",
       ":   0.1676558122501594\n",
       ":   1.207584174812765\n",
       ":   0.4402261224951456\n",
       ":   -0.8077233767471377\n",
       ":   0.6924578075772678\n",
       ":   1.105704561199429\n",
       ":   -1.0710300421553910\n",
       ":   -1.313490500032511\n",
       ":   1.3966311787480712\n",
       ":   -1.9293551442474713\n",
       ":   -0.70078800417312814\n",
       ":   -0.14345350331717115\n",
       ":   1.2248751808015416\n",
       ":   0.613304129045166\n",
       "\n"
      ],
      "text/plain": [
       "         1          2          3          4          5          6          7 \n",
       "-0.3460418  0.4184417  0.1676558  1.2075842  0.4402261 -0.8077234  0.6924578 \n",
       "         8          9         10         11         12         13         14 \n",
       " 1.1057046 -1.0710300 -1.3134905  1.3966312 -1.9293551 -0.7007880 -0.1434535 \n",
       "        15         16 \n",
       " 1.2248752  0.6133041 "
      ]
     },
     "metadata": {},
     "output_type": "display_data"
    }
   ],
   "source": [
    "rstandard(model1)"
   ]
  },
  {
   "cell_type": "code",
   "execution_count": 11,
   "id": "155aab89",
   "metadata": {},
   "outputs": [
    {
     "data": {
      "image/png": "[encoded data removed]",
      "text/plain": [
       "plot without title"
      ]
     },
     "metadata": {},
     "output_type": "display_data"
    }
   ],
   "source": [
    "options(repr.plot.width = 3, repr.plot.height = 3)\n",
    "plot(fitted(model1), rstandard(model1))\n",
    "abline(0,0)"
   ]
  },
  {
   "cell_type": "markdown",
   "id": "35507fc7",
   "metadata": {},
   "source": [
    "Two of the observations seem unusual with very high fitted values."
   ]
  },
  {
   "cell_type": "code",
   "execution_count": 12,
   "id": "8d1cf9c3",
   "metadata": {},
   "outputs": [
    {
     "data": {
      "text/html": [
       "<dl class=dl-horizontal>\n",
       "\t<dt>1</dt>\n",
       "\t\t<dd>0.00411135048941892</dd>\n",
       "\t<dt>2</dt>\n",
       "\t\t<dd>0.0134505843509641</dd>\n",
       "\t<dt>3</dt>\n",
       "\t\t<dd>0.00104706984405207</dd>\n",
       "\t<dt>4</dt>\n",
       "\t\t<dd>0.0688030121000577</dd>\n",
       "\t<dt>5</dt>\n",
       "\t\t<dd>0.00460986921074952</dd>\n",
       "\t<dt>6</dt>\n",
       "\t\t<dd>0.0210699915091699</dd>\n",
       "\t<dt>7</dt>\n",
       "\t\t<dd>0.0112886488737494</dd>\n",
       "\t<dt>8</dt>\n",
       "\t\t<dd>0.0278596031784254</dd>\n",
       "\t<dt>9</dt>\n",
       "\t\t<dd>0.0275416478680978</dd>\n",
       "\t<dt>10</dt>\n",
       "\t\t<dd>0.0673307576843639</dd>\n",
       "\t<dt>11</dt>\n",
       "\t\t<dd>0.0443350889334346</dd>\n",
       "\t<dt>12</dt>\n",
       "\t\t<dd>0.201515927768729</dd>\n",
       "\t<dt>13</dt>\n",
       "\t\t<dd>0.00872236772938958</dd>\n",
       "\t<dt>14</dt>\n",
       "\t\t<dd>0.0128713680372215</dd>\n",
       "\t<dt>15</dt>\n",
       "\t\t<dd>1.3838052434306</dd>\n",
       "\t<dt>16</dt>\n",
       "\t\t<dd>1.31699432115184</dd>\n",
       "</dl>\n"
      ],
      "text/latex": [
       "\\begin{description*}\n",
       "\\item[1] 0.00411135048941892\n",
       "\\item[2] 0.0134505843509641\n",
       "\\item[3] 0.00104706984405207\n",
       "\\item[4] 0.0688030121000577\n",
       "\\item[5] 0.00460986921074952\n",
       "\\item[6] 0.0210699915091699\n",
       "\\item[7] 0.0112886488737494\n",
       "\\item[8] 0.0278596031784254\n",
       "\\item[9] 0.0275416478680978\n",
       "\\item[10] 0.0673307576843639\n",
       "\\item[11] 0.0443350889334346\n",
       "\\item[12] 0.201515927768729\n",
       "\\item[13] 0.00872236772938958\n",
       "\\item[14] 0.0128713680372215\n",
       "\\item[15] 1.3838052434306\n",
       "\\item[16] 1.31699432115184\n",
       "\\end{description*}\n"
      ],
      "text/markdown": [
       "1\n",
       ":   0.004111350489418922\n",
       ":   0.01345058435096413\n",
       ":   0.001047069844052074\n",
       ":   0.06880301210005775\n",
       ":   0.004609869210749526\n",
       ":   0.02106999150916997\n",
       ":   0.01128864887374948\n",
       ":   0.02785960317842549\n",
       ":   0.027541647868097810\n",
       ":   0.067330757684363911\n",
       ":   0.044335088933434612\n",
       ":   0.20151592776872913\n",
       ":   0.0087223677293895814\n",
       ":   0.012871368037221515\n",
       ":   1.383805243430616\n",
       ":   1.31699432115184\n",
       "\n"
      ],
      "text/plain": [
       "          1           2           3           4           5           6 \n",
       "0.004111350 0.013450584 0.001047070 0.068803012 0.004609869 0.021069992 \n",
       "          7           8           9          10          11          12 \n",
       "0.011288649 0.027859603 0.027541648 0.067330758 0.044335089 0.201515928 \n",
       "         13          14          15          16 \n",
       "0.008722368 0.012871368 1.383805243 1.316994321 "
      ]
     },
     "metadata": {},
     "output_type": "display_data"
    }
   ],
   "source": [
    "cooks.distance(model1)"
   ]
  },
  {
   "cell_type": "code",
   "execution_count": 13,
   "id": "6a3b8f7a",
   "metadata": {},
   "outputs": [
    {
     "data": {
      "image/png": "[encoded data removed]",
      "text/plain": [
       "plot without title"
      ]
     },
     "metadata": {},
     "output_type": "display_data"
    }
   ],
   "source": [
    "options(repr.plot.width = 3, repr.plot.height = 3)\n",
    "plot(cooks.distance(model1))"
   ]
  },
  {
   "cell_type": "markdown",
   "id": "bede99d7",
   "metadata": {},
   "source": [
    "$D_{15}$ and $D_{16}$ are $>4/n = 0.25$ and $>1$. Thus, the 15th and 16th data points are unusual observations/outliers."
   ]
  },
  {
   "cell_type": "markdown",
   "id": "e4dba461",
   "metadata": {},
   "source": [
    "<b> Q7 <b/>"
   ]
  },
  {
   "cell_type": "code",
   "execution_count": 14,
   "id": "06266728",
   "metadata": {},
   "outputs": [
    {
     "data": {
      "text/plain": [
       "\n",
       "Call:\n",
       "lm(formula = Hours ~ ., data = data1)\n",
       "\n",
       "Residuals:\n",
       "    Min      1Q  Median      3Q     Max \n",
       "-677.23 -270.19   60.93  228.32  517.70 \n",
       "\n",
       "Coefficients:\n",
       "              Estimate Std. Error t value Pr(>|t|)    \n",
       "(Intercept) 1946.80204  504.18193   3.861  0.00226 ** \n",
       "Xray           0.03858    0.01304   2.958  0.01197 *  \n",
       "BedDays        1.03939    0.06756  15.386 2.91e-09 ***\n",
       "Length      -413.75780   98.59828  -4.196  0.00124 ** \n",
       "---\n",
       "Signif. codes:  0 '***' 0.001 '**' 0.01 '*' 0.05 '.' 0.1 ' ' 1\n",
       "\n",
       "Residual standard error: 387.2 on 12 degrees of freedom\n",
       "Multiple R-squared:  0.9961,\tAdjusted R-squared:  0.9952 \n",
       "F-statistic:  1028 on 3 and 12 DF,  p-value: 9.919e-15\n"
      ]
     },
     "metadata": {},
     "output_type": "display_data"
    }
   ],
   "source": [
    "summary(model1)"
   ]
  },
  {
   "cell_type": "markdown",
   "id": "bccc9f93",
   "metadata": {},
   "source": [
    "The predictor $\\beta_{Length}$being negative is counterintuitive. The average length of stay and\n",
    "required labor hours cannot be inversely related.\n",
    "\n",
    "This could be due to multicollinearity."
   ]
  },
  {
   "cell_type": "markdown",
   "id": "a1bb2ea7",
   "metadata": {},
   "source": [
    "<b> Q8 <b/>"
   ]
  },
  {
   "cell_type": "code",
   "execution_count": 15,
   "id": "453b6f68",
   "metadata": {},
   "outputs": [
    {
     "data": {
      "text/html": [
       "<dl class=dl-horizontal>\n",
       "\t<dt>Xray</dt>\n",
       "\t\t<dd>7.82831925495341</dd>\n",
       "\t<dt>BedDays</dt>\n",
       "\t\t<dd>11.3961947324676</dd>\n",
       "\t<dt>Length</dt>\n",
       "\t\t<dd>2.51955937074732</dd>\n",
       "</dl>\n"
      ],
      "text/latex": [
       "\\begin{description*}\n",
       "\\item[Xray] 7.82831925495341\n",
       "\\item[BedDays] 11.3961947324676\n",
       "\\item[Length] 2.51955937074732\n",
       "\\end{description*}\n"
      ],
      "text/markdown": [
       "Xray\n",
       ":   7.82831925495341BedDays\n",
       ":   11.3961947324676Length\n",
       ":   2.51955937074732\n",
       "\n"
      ],
      "text/plain": [
       "     Xray   BedDays    Length \n",
       " 7.828319 11.396195  2.519559 "
      ]
     },
     "metadata": {},
     "output_type": "display_data"
    }
   ],
   "source": [
    "vif(model1)"
   ]
  },
  {
   "cell_type": "markdown",
   "id": "27191b82",
   "metadata": {},
   "source": [
    "$R^2_{model} = 0.9961$\n",
    "\n",
    "$\\frac{1}{1-R^2_{model}} = 256.4103$\n",
    "\n",
    "$VIF_{BedDays} \\geq 10$ but $<\\frac{1}{1-R^2_{model}}$\n",
    "\n",
    "$VIF_{Xray}$ and $VIF_{Length}$ are both $<10$ and $<\\frac{1}{1-R^2_{model}}$.\n",
    "\n",
    "Thus, high multicollinearity is not detected."
   ]
  }
 ],
 "metadata": {
  "kernelspec": {
   "display_name": "R",
   "language": "R",
   "name": "ir"
  },
  "language_info": {
   "codemirror_mode": "r",
   "file_extension": ".r",
   "mimetype": "text/x-r-source",
   "name": "R",
   "pygments_lexer": "r",
   "version": "3.6.1"
  }
 },
 "nbformat": 4,
 "nbformat_minor": 5
}
