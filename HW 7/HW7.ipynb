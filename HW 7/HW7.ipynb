{
 "cells": [
  {
   "cell_type": "markdown",
   "id": "081a67f7",
   "metadata": {},
   "source": [
    "# ISYE 6414 - HW7 #\n",
    "## Manvitha Kalicheti ##\n",
    "### gtID: 903838438 ###"
   ]
  },
  {
   "cell_type": "code",
   "execution_count": 1,
   "id": "64705439",
   "metadata": {},
   "outputs": [
    {
     "name": "stderr",
     "output_type": "stream",
     "text": [
      "Registered S3 methods overwritten by 'ggplot2':\n",
      "  method         from \n",
      "  [.quosures     rlang\n",
      "  c.quosures     rlang\n",
      "  print.quosures rlang\n"
     ]
    }
   ],
   "source": [
    "library(ggplot2)\n",
    "data1 = read.csv('homework07data01.csv')\n",
    "TotalCount = data1[, 1]\n",
    "Time = data1[, 2]\n",
    "Resolved = data1[, 3]\n",
    "Satisfied = data1[, 4]"
   ]
  },
  {
   "cell_type": "markdown",
   "id": "e9279134",
   "metadata": {},
   "source": [
    "<b> Q1 <b/>"
   ]
  },
  {
   "cell_type": "code",
   "execution_count": 2,
   "id": "d5a80893",
   "metadata": {},
   "outputs": [
    {
     "data": {
      "image/png": "[encoded data removed]",
      "text/plain": [
       "plot without title"
      ]
     },
     "metadata": {},
     "output_type": "display_data"
    }
   ],
   "source": [
    "options(repr.plot.width = 5, repr.plot.height = 3)\n",
    "ggplot(data1, aes(x = Time, y = Satisfied/TotalCount, colour \n",
    "                  = as.factor(Resolved))) + geom_point()"
   ]
  },
  {
   "cell_type": "code",
   "execution_count": 3,
   "id": "17c182d6",
   "metadata": {},
   "outputs": [
    {
     "data": {
      "image/png": "[encoded data removed]",
      "text/plain": [
       "plot without title"
      ]
     },
     "metadata": {},
     "output_type": "display_data"
    }
   ],
   "source": [
    "prop_satisfied = Satisfied/TotalCount\n",
    "options(repr.plot.width = 5, repr.plot.height = 3)\n",
    "ggplot(data1, aes(x = Time, y = log(prop_satisfied/(1-prop_satisfied)), colour \n",
    "                  = as.factor(Resolved))) + geom_point()"
   ]
  },
  {
   "cell_type": "markdown",
   "id": "ccbc014a",
   "metadata": {},
   "source": [
    "The trend of the logit function vs time looks almost linear, seems like logistic regression would be a good fit. "
   ]
  },
  {
   "cell_type": "markdown",
   "id": "0ca948e6",
   "metadata": {},
   "source": [
    "<b> Q2 <b/>"
   ]
  },
  {
   "cell_type": "code",
   "execution_count": 4,
   "id": "8d09ae67",
   "metadata": {},
   "outputs": [],
   "source": [
    "model1 = glm(Satisfied/TotalCount ~ Resolved + Time, weights = \n",
    "             TotalCount, family = binomial)"
   ]
  },
  {
   "cell_type": "code",
   "execution_count": 5,
   "id": "c38976f9",
   "metadata": {},
   "outputs": [
    {
     "data": {
      "text/plain": [
       "\n",
       "Call:\n",
       "glm(formula = Satisfied/TotalCount ~ Resolved + Time, family = binomial, \n",
       "    weights = TotalCount)\n",
       "\n",
       "Deviance Residuals: \n",
       "     Min        1Q    Median        3Q       Max  \n",
       "-0.46754  -0.28478  -0.03754   0.34630   0.44079  \n",
       "\n",
       "Coefficients:\n",
       "            Estimate Std. Error z value Pr(>|z|)    \n",
       "(Intercept)  0.87899    0.12414   7.080 1.44e-12 ***\n",
       "Resolved     0.41527    0.12510   3.319 0.000902 ***\n",
       "Time        -0.19964    0.02327  -8.577  < 2e-16 ***\n",
       "---\n",
       "Signif. codes:  0 '***' 0.001 '**' 0.01 '*' 0.05 '.' 0.1 ' ' 1\n",
       "\n",
       "(Dispersion parameter for binomial family taken to be 1)\n",
       "\n",
       "    Null deviance: 95.7521  on 9  degrees of freedom\n",
       "Residual deviance:  1.0727  on 7  degrees of freedom\n",
       "AIC: 55.886\n",
       "\n",
       "Number of Fisher Scoring iterations: 3\n"
      ]
     },
     "metadata": {},
     "output_type": "display_data"
    }
   ],
   "source": [
    "summary(model1)"
   ]
  },
  {
   "cell_type": "markdown",
   "id": "87494ce7",
   "metadata": {},
   "source": [
    "$\\hat{\\beta}_{0} = 0.87899$\n",
    "\n",
    "$\\hat{\\beta}_{Resolved} = 0.41527$\n",
    "\n",
    "$\\hat{\\beta}_{Time} = -0.19964$"
   ]
  },
  {
   "cell_type": "markdown",
   "id": "3fbd0154",
   "metadata": {},
   "source": [
    "<b> Q3 <b/>"
   ]
  },
  {
   "cell_type": "markdown",
   "id": "c143fdd2",
   "metadata": {},
   "source": [
    "The log odds of customer satisfaction seem to increase by $0.41527$ for Resolved vs. Not Resolved (odds ratio is $e^{0.41527} = 1.5148$) holding Time fixed. Thus the odds of satisfaction are $51.48\\% (= e^{0.41527}-1)$ higher for customers whose issues were resolved holding Time fixed."
   ]
  },
  {
   "cell_type": "markdown",
   "id": "72e5c01c",
   "metadata": {},
   "source": [
    "<b> Q4 <b/>"
   ]
  },
  {
   "cell_type": "markdown",
   "id": "99082923",
   "metadata": {},
   "source": [
    "The log odds of customer satisfaction seem to decrease by $-0.19964$ for a unit (1 minute) increase in time (odds ratio is $e^{-0.19964} = 0.8190$) holding all other variables fixed. Thus the odds of satisfaction are $18.09\\% (= e^{-0.19964}-1)$ lower for 1 minute increase in time. "
   ]
  },
  {
   "cell_type": "markdown",
   "id": "f6bfc260",
   "metadata": {},
   "source": [
    "<b> Q5 <b/>"
   ]
  },
  {
   "cell_type": "code",
   "execution_count": 6,
   "id": "869c1aba",
   "metadata": {},
   "outputs": [],
   "source": [
    "new1 = data.frame(Time = 3, Resolved = 1)\n",
    "new2 = data.frame(Time = 3, Resolved = 0)"
   ]
  },
  {
   "cell_type": "code",
   "execution_count": 7,
   "id": "d6ccb444",
   "metadata": {},
   "outputs": [
    {
     "data": {
      "text/html": [
       "<strong>1:</strong> 0.695353982258555"
      ],
      "text/latex": [
       "\\textbf{1:} 0.695353982258555"
      ],
      "text/markdown": [
       "**1:** 0.695353982258555"
      ],
      "text/plain": [
       "       1 \n",
       "0.695354 "
      ]
     },
     "metadata": {},
     "output_type": "display_data"
    }
   ],
   "source": [
    "predict(model1, new1)"
   ]
  },
  {
   "cell_type": "code",
   "execution_count": 8,
   "id": "df23fe30",
   "metadata": {},
   "outputs": [
    {
     "data": {
      "text/html": [
       "<strong>1:</strong> 0.280079539245874"
      ],
      "text/latex": [
       "\\textbf{1:} 0.280079539245874"
      ],
      "text/markdown": [
       "**1:** 0.280079539245874"
      ],
      "text/plain": [
       "        1 \n",
       "0.2800795 "
      ]
     },
     "metadata": {},
     "output_type": "display_data"
    }
   ],
   "source": [
    "predict(model1, new2)"
   ]
  },
  {
   "cell_type": "markdown",
   "id": "8bf21dff",
   "metadata": {},
   "source": [
    "The mean log odds that a customer will be satisfied when their call took 3 minutes and their issue was resolved is $0.6953$. Odds ratio is $e^{0.6953} = 2.0043$. The odds that the customer will be satisfied are $100 \\times \\frac{2.0043}{1+2.0043}\\% = 66.71\\%$. \n",
    "\n",
    "The mean log odds that a customer will be satisfied when their call took 3 minutes and their issue was not resolved is $0.2801$. Odds ratio is $e^{0.2801} = 1.3233$. The odds that the customer will be satisfied are $100 \\times \\frac{1.3233}{1+1.3233}\\% = 56.96\\%$. \n"
   ]
  },
  {
   "cell_type": "code",
   "execution_count": 9,
   "id": "982f28e3",
   "metadata": {},
   "outputs": [],
   "source": [
    "data2 = read.csv('homework07data02.csv')\n",
    "PriorWeekPurchase = data2[, 1]\n",
    "LastWeekCompPurchase = data2[, 2]\n",
    "Age = data2[, 3]\n",
    "Region = data2[, 4]\n",
    "Count = data2[, 5]\n",
    "Purchase = data2[, 6]\n",
    "PurchaseCount = data2[, 7]"
   ]
  },
  {
   "cell_type": "markdown",
   "id": "eb5e6bfe",
   "metadata": {},
   "source": [
    "<b> Q6 <b/>"
   ]
  },
  {
   "cell_type": "code",
   "execution_count": 10,
   "id": "25a80534",
   "metadata": {},
   "outputs": [],
   "source": [
    "model2 = glm(Purchase/Count ~ PriorWeekPurchase + LastWeekCompPurchase + \n",
    "             Age + Region, weights = Count, family = binomial)"
   ]
  },
  {
   "cell_type": "code",
   "execution_count": 11,
   "id": "393fb952",
   "metadata": {},
   "outputs": [
    {
     "data": {
      "text/plain": [
       "\n",
       "Call:\n",
       "glm(formula = Purchase/Count ~ PriorWeekPurchase + LastWeekCompPurchase + \n",
       "    Age + Region, family = binomial, weights = Count)\n",
       "\n",
       "Deviance Residuals: \n",
       "    Min       1Q   Median       3Q      Max  \n",
       "-2.6513  -0.8410   0.2038   0.7031   2.2835  \n",
       "\n",
       "Coefficients:\n",
       "                     Estimate Std. Error z value Pr(>|z|)    \n",
       "(Intercept)          -0.33961    0.12612  -2.693  0.00709 ** \n",
       "PriorWeekPurchase     0.38392    0.08650   4.438 9.06e-06 ***\n",
       "LastWeekCompPurchase -0.26885    0.08655  -3.106  0.00189 ** \n",
       "Age25 to 34           0.06858    0.12053   0.569  0.56935    \n",
       "Age35 to 44          -0.14704    0.12190  -1.206  0.22773    \n",
       "Age45+               -0.24521    0.12294  -1.995  0.04608 *  \n",
       "Regionb               0.19027    0.12205   1.559  0.11902    \n",
       "Regionc               0.24966    0.12165   2.052  0.04014 *  \n",
       "Regiond               0.26563    0.12273   2.164  0.03044 *  \n",
       "---\n",
       "Signif. codes:  0 '***' 0.001 '**' 0.01 '*' 0.05 '.' 0.1 ' ' 1\n",
       "\n",
       "(Dispersion parameter for binomial family taken to be 1)\n",
       "\n",
       "    Null deviance: 118.705  on 63  degrees of freedom\n",
       "Residual deviance:  74.991  on 55  degrees of freedom\n",
       "AIC: 344.32\n",
       "\n",
       "Number of Fisher Scoring iterations: 4\n"
      ]
     },
     "metadata": {},
     "output_type": "display_data"
    }
   ],
   "source": [
    "summary(model2)"
   ]
  },
  {
   "cell_type": "markdown",
   "id": "2d03cf66",
   "metadata": {},
   "source": [
    "$\\hat{\\beta}_{0} = -0.33961 $\n",
    "\n",
    "$\\hat{\\beta}_{PriorWeekPurchase} = 0.38392$\n",
    "\n",
    "$\\hat{\\beta}_{LastWeekCompPurchase} = -0.26885$\n",
    "\n",
    "$\\hat{\\beta}_{Age:25-34} = 0.06858$\n",
    "\n",
    "$\\hat{\\beta}_{Age:35-44} = -0.14704$\n",
    "\n",
    "$\\hat{\\beta}_{Age:45+} = -0.24521$\n",
    "\n",
    "$\\hat{\\beta}_{Region-b} = 0.19027$\n",
    "\n",
    "$\\hat{\\beta}_{Region-c} = 0.24966$\n",
    "\n",
    "$\\hat{\\beta}_{Region-d} = 0.26563$\n"
   ]
  },
  {
   "cell_type": "markdown",
   "id": "a61e5f57",
   "metadata": {},
   "source": [
    "Null deviance - Residual Deviance = 43.714"
   ]
  },
  {
   "cell_type": "markdown",
   "id": "880e70cc",
   "metadata": {},
   "source": [
    "<b> Q7 <b/>"
   ]
  },
  {
   "cell_type": "code",
   "execution_count": 12,
   "id": "153ba27d",
   "metadata": {},
   "outputs": [
    {
     "data": {
      "text/html": [
       "6.44101047608814e-07"
      ],
      "text/latex": [
       "6.44101047608814e-07"
      ],
      "text/markdown": [
       "6.44101047608814e-07"
      ],
      "text/plain": [
       "[1] 6.44101e-07"
      ]
     },
     "metadata": {},
     "output_type": "display_data"
    }
   ],
   "source": [
    "1 - pchisq(model2$null.deviance-model2$deviance, 63-55)"
   ]
  },
  {
   "cell_type": "markdown",
   "id": "54fc86a1",
   "metadata": {},
   "source": [
    "$H_{0}:$ all $\\beta$s are 0.\n",
    "\n",
    "$H_{a}:$ atleast one $\\beta$ is non zero.\n",
    "\n",
    "P-value = Pr($\\mathcal{X}_{1}^{2}>43.714$) ~ $0$\n",
    "\n",
    "p-value << $\\alpha = 0.05$ $\\implies$ we reject $H_{0}$ $\\implies$ We accept $H_{a}:$ atleast one $\\beta$ is non zero.\n",
    "\n",
    "Model is statistically significant."
   ]
  },
  {
   "cell_type": "markdown",
   "id": "c58beb2b",
   "metadata": {},
   "source": [
    "<b> Q8 <b/>"
   ]
  },
  {
   "cell_type": "code",
   "execution_count": 13,
   "id": "eb2dc7e5",
   "metadata": {},
   "outputs": [
    {
     "data": {
      "text/html": [
       "<ol class=list-inline>\n",
       "\t<li>74.9907728616975</li>\n",
       "\t<li>0.0378463616235688</li>\n",
       "</ol>\n"
      ],
      "text/latex": [
       "\\begin{enumerate*}\n",
       "\\item 74.9907728616975\n",
       "\\item 0.0378463616235688\n",
       "\\end{enumerate*}\n"
      ],
      "text/markdown": [
       "1. 74.9907728616975\n",
       "2. 0.0378463616235688\n",
       "\n",
       "\n"
      ],
      "text/plain": [
       "[1] 74.99077286  0.03784636"
      ]
     },
     "metadata": {},
     "output_type": "display_data"
    }
   ],
   "source": [
    "c(deviance(model2), 1-pchisq(deviance(model2), 55))"
   ]
  },
  {
   "cell_type": "code",
   "execution_count": 14,
   "id": "b7effe2c",
   "metadata": {},
   "outputs": [
    {
     "data": {
      "text/html": [
       "<ol class=list-inline>\n",
       "\t<li>73.5225716343887</li>\n",
       "\t<li>0.0483089734645745</li>\n",
       "</ol>\n"
      ],
      "text/latex": [
       "\\begin{enumerate*}\n",
       "\\item 73.5225716343887\n",
       "\\item 0.0483089734645745\n",
       "\\end{enumerate*}\n"
      ],
      "text/markdown": [
       "1. 73.5225716343887\n",
       "2. 0.0483089734645745\n",
       "\n",
       "\n"
      ],
      "text/plain": [
       "[1] 73.52257163  0.04830897"
      ]
     },
     "metadata": {},
     "output_type": "display_data"
    }
   ],
   "source": [
    "pearres2 = residuals(model2,type=\"pearson\")\n",
    "pearson.tvalue = sum(pearres2^2)\n",
    "c(pearson.tvalue, 1-pchisq(pearson.tvalue,55))"
   ]
  },
  {
   "cell_type": "markdown",
   "id": "4ce2b4fc",
   "metadata": {},
   "source": [
    "$H_0:$ the logistic model fits the data.\n",
    "\n",
    "$H_a:$ the logistic model does not fit the data. \n",
    "\n",
    "With both deviance and Pearson residuals, p-value < $\\alpha = $ 0.05, thus, we reject the null hypothesis of good fit with $\\alpha = 0.05$.\n",
    "\n",
    "With both deviance and Pearson residuals, p-value > $\\alpha = $ 0.01, thus, we accept the null hypothesis of good fit with $\\alpha = 0.01$."
   ]
  },
  {
   "cell_type": "markdown",
   "id": "87560ab8",
   "metadata": {},
   "source": [
    "<b> Q9 <b/>"
   ]
  },
  {
   "cell_type": "code",
   "execution_count": 15,
   "id": "2f23bade",
   "metadata": {},
   "outputs": [],
   "source": [
    "model3 = glm(PurchaseCount ~ PriorWeekPurchase + LastWeekCompPurchase + Age + \n",
    "             Region + offset(log(Count)), family = \"poisson\")"
   ]
  },
  {
   "cell_type": "code",
   "execution_count": 16,
   "id": "df43e236",
   "metadata": {},
   "outputs": [
    {
     "data": {
      "text/plain": [
       "\n",
       "Call:\n",
       "glm(formula = PurchaseCount ~ PriorWeekPurchase + LastWeekCompPurchase + \n",
       "    Age + Region + offset(log(Count)), family = \"poisson\")\n",
       "\n",
       "Deviance Residuals: \n",
       "     Min        1Q    Median        3Q       Max  \n",
       "-2.48516  -0.65035  -0.06216   0.63731   2.77040  \n",
       "\n",
       "Coefficients:\n",
       "                     Estimate Std. Error z value Pr(>|z|)    \n",
       "(Intercept)           0.75055    0.04021  18.665  < 2e-16 ***\n",
       "PriorWeekPurchase     0.39280    0.02678  14.669  < 2e-16 ***\n",
       "LastWeekCompPurchase -0.21569    0.02663  -8.099 5.54e-16 ***\n",
       "Age25 to 34           0.06285    0.03586   1.753  0.07967 .  \n",
       "Age35 to 44          -0.04930    0.03686  -1.337  0.18110    \n",
       "Age45+               -0.24960    0.03929  -6.352 2.12e-10 ***\n",
       "Regionb               0.11974    0.03914   3.060  0.00222 ** \n",
       "Regionc               0.28095    0.03760   7.472 7.92e-14 ***\n",
       "Regiond               0.17495    0.03876   4.513 6.38e-06 ***\n",
       "---\n",
       "Signif. codes:  0 '***' 0.001 '**' 0.01 '*' 0.05 '.' 0.1 ' ' 1\n",
       "\n",
       "(Dispersion parameter for poisson family taken to be 1)\n",
       "\n",
       "    Null deviance: 492.205  on 63  degrees of freedom\n",
       "Residual deviance:  70.202  on 55  degrees of freedom\n",
       "AIC: 490.66\n",
       "\n",
       "Number of Fisher Scoring iterations: 4\n"
      ]
     },
     "metadata": {},
     "output_type": "display_data"
    }
   ],
   "source": [
    "summary(model3)"
   ]
  },
  {
   "cell_type": "markdown",
   "id": "0d043453",
   "metadata": {},
   "source": [
    "$\\hat{\\beta}_{0} = 0.75055 $\n",
    "\n",
    "$\\hat{\\beta}_{PriorWeekPurchase} = 0.39280$\n",
    "\n",
    "$\\hat{\\beta}_{LastWeekCompPurchase} = -0.21569$\n",
    "\n",
    "$\\hat{\\beta}_{Age:25-34} = 0.06285$\n",
    "\n",
    "$\\hat{\\beta}_{Age:35-44} = -0.04930$\n",
    "\n",
    "$\\hat{\\beta}_{Age:45+} = -0.24960$\n",
    "\n",
    "$\\hat{\\beta}_{Region-b} = 0.11974$\n",
    "\n",
    "$\\hat{\\beta}_{Region-c} = 0.28095$\n",
    "\n",
    "$\\hat{\\beta}_{Region-d} = 0.17495$\n"
   ]
  },
  {
   "cell_type": "markdown",
   "id": "e9bd6c9e",
   "metadata": {},
   "source": [
    "<b> Q10 <b/>"
   ]
  },
  {
   "cell_type": "code",
   "execution_count": 17,
   "id": "07d38526",
   "metadata": {},
   "outputs": [
    {
     "data": {
      "text/html": [
       "0"
      ],
      "text/latex": [
       "0"
      ],
      "text/markdown": [
       "0"
      ],
      "text/plain": [
       "[1] 0"
      ]
     },
     "metadata": {},
     "output_type": "display_data"
    }
   ],
   "source": [
    "1 - pchisq(model3$null.deviance-model2$deviance, 63-55)"
   ]
  },
  {
   "cell_type": "markdown",
   "id": "f536a5d6",
   "metadata": {},
   "source": [
    "$H_{0}:$ all $\\beta$s are 0.\n",
    "\n",
    "$H_{a}:$ atleast one $\\beta$ is non zero.\n",
    "\n",
    "P-value = Pr($\\mathcal{X}_{k}^{2}>Deviance$) = 0\n",
    "\n",
    "p-value < $\\alpha = 0.05$ $\\implies$ we reject $H_{0}$ $\\implies$ We accept $H_{a}:$ atleast one $\\beta$ is non zero. \n",
    "\n",
    "Model is statistically significant."
   ]
  },
  {
   "cell_type": "markdown",
   "id": "f4c8343e",
   "metadata": {},
   "source": [
    "<b> Q11 <b/>"
   ]
  },
  {
   "cell_type": "code",
   "execution_count": 18,
   "id": "e540e16f",
   "metadata": {},
   "outputs": [
    {
     "data": {
      "text/html": [
       "<ol class=list-inline>\n",
       "\t<li>70.2020245209093</li>\n",
       "\t<li>0.0813134878853016</li>\n",
       "</ol>\n"
      ],
      "text/latex": [
       "\\begin{enumerate*}\n",
       "\\item 70.2020245209093\n",
       "\\item 0.0813134878853016\n",
       "\\end{enumerate*}\n"
      ],
      "text/markdown": [
       "1. 70.2020245209093\n",
       "2. 0.0813134878853016\n",
       "\n",
       "\n"
      ],
      "text/plain": [
       "[1] 70.20202452  0.08131349"
      ]
     },
     "metadata": {},
     "output_type": "display_data"
    }
   ],
   "source": [
    "c(deviance(model3), 1-pchisq(deviance(model3), 55))"
   ]
  },
  {
   "cell_type": "code",
   "execution_count": 19,
   "id": "d0912a8c",
   "metadata": {},
   "outputs": [
    {
     "data": {
      "text/html": [
       "<ol class=list-inline>\n",
       "\t<li>70.8523032082477</li>\n",
       "\t<li>0.0736887015240438</li>\n",
       "</ol>\n"
      ],
      "text/latex": [
       "\\begin{enumerate*}\n",
       "\\item 70.8523032082477\n",
       "\\item 0.0736887015240438\n",
       "\\end{enumerate*}\n"
      ],
      "text/markdown": [
       "1. 70.8523032082477\n",
       "2. 0.0736887015240438\n",
       "\n",
       "\n"
      ],
      "text/plain": [
       "[1] 70.8523032  0.0736887"
      ]
     },
     "metadata": {},
     "output_type": "display_data"
    }
   ],
   "source": [
    "pearres3 = residuals(model3,type=\"pearson\")\n",
    "pearson.tvalue = sum(pearres3^2)\n",
    "c(pearson.tvalue, 1-pchisq(pearson.tvalue,55))"
   ]
  },
  {
   "cell_type": "markdown",
   "id": "39d67560",
   "metadata": {},
   "source": [
    "$H_0:$ the poisson model fits the data.\n",
    "\n",
    "$H_a:$ the poisson model does not fit the data. \n",
    "\n",
    "In both cases, p-value > $\\alpha = $ 0.05 and 0.01, thus, we accept the null hypothesis of good fit."
   ]
  },
  {
   "cell_type": "markdown",
   "id": "95711e81",
   "metadata": {},
   "source": [
    "<b> Q12 <b/>"
   ]
  },
  {
   "cell_type": "markdown",
   "id": "1e514f6f",
   "metadata": {},
   "source": [
    "$H_0:$ $\\hat{\\beta}_{Age:25-34} = \\hat{\\beta}_{Age:35-44}$ = $\\hat{\\beta}_{Age:45+} = 0$\n",
    "\n",
    "$H_a:$ Atleast one of $\\hat{\\beta}_{Age:25-34}, \\hat{\\beta}_{Age:35-44}, \\hat{\\beta}_{Age:45+}$ $\\neq 0$\n",
    "\n",
    "For the model made in 6, the p-value for $\\beta_{Age:45+}$ is < $\\alpha = 0.05$. Thus, we reject $H_0$. \n",
    "\n",
    "$\\implies$ Atleast one of $\\hat{\\beta}_{Age:25-34}, \\hat{\\beta}_{Age:35-44}, \\hat{\\beta}_{Age:45+}$ $\\neq 0$ \n",
    "\n",
    "$\\implies$ categorical variable 'Age' is statistically significant."
   ]
  },
  {
   "cell_type": "markdown",
   "id": "ee225088",
   "metadata": {},
   "source": [
    "<b> Q13 <b/>"
   ]
  },
  {
   "cell_type": "markdown",
   "id": "ed266a00",
   "metadata": {},
   "source": [
    "$H_0:$ $\\hat{\\beta}_{Age:25-34} = \\hat{\\beta}_{Age:35-44}$ = $\\hat{\\beta}_{Age:45+} = 0$\n",
    "\n",
    "$H_a:$ Atleast one of $\\hat{\\beta}_{Age:25-34}, \\hat{\\beta}_{Age:35-44}, \\hat{\\beta}_{Age:45+}$ $\\neq 0$\n",
    "\n",
    "For the model made in 9, the p-values for all $\\hat{\\beta}_{Age:25-34}, \\hat{\\beta}_{Age:35-44}$ are > $\\alpha = 0.05$. But the p-value for $\\hat{\\beta}_{Age:45+}$ << $\\alpha = 0.05$. Thus, we reject $H_0$. \n",
    "\n",
    "$\\implies$ Atleast one of $\\hat{\\beta}_{Age:25-34}, \\hat{\\beta}_{Age:35-44}, \\hat{\\beta}_{Age:45+}$ $\\neq 0$\n",
    "\n",
    "$\\implies$ Coefficients associated with Age cannot be 0."
   ]
  },
  {
   "cell_type": "markdown",
   "id": "7d5e6305",
   "metadata": {},
   "source": [
    "<b> Q14 <b/>"
   ]
  },
  {
   "cell_type": "markdown",
   "id": "504ef4da",
   "metadata": {},
   "source": [
    "$\\hat{\\beta}_{PriorWeekPurchase} = 0.38392$\n",
    "\n",
    "The log odds of someone purchasing the new product seem to increase by $0.38392$ if the customer bought one of the company’s products in the previous week holding all other variables fixed. Odds ratio is $e^{0.38392} = 1.4680$. Thus, the odds of the customer purchasing the new product are $46.80\\% (=e^{0.38392}-1)$ higher for customers who bought one of the company's products in the previous week."
   ]
  },
  {
   "cell_type": "markdown",
   "id": "7d0da3fc",
   "metadata": {},
   "source": [
    "<b> Q15 <b/>"
   ]
  },
  {
   "cell_type": "markdown",
   "id": "d699db2c",
   "metadata": {},
   "source": [
    "$\\hat{\\beta}_{PriorWeekPurchase} = 0.39280$\n",
    "\n",
    "If the customer bought one of the company’s products in the previous week, holding all other variables fixed, the rate ratio of new item purchased would be expected to increase by a factor of $e^{0.39280} = 1.4811$. \n"
   ]
  }
 ],
 "metadata": {
  "kernelspec": {
   "display_name": "R",
   "language": "R",
   "name": "ir"
  },
  "language_info": {
   "codemirror_mode": "r",
   "file_extension": ".r",
   "mimetype": "text/x-r-source",
   "name": "R",
   "pygments_lexer": "r",
   "version": "3.6.1"
  }
 },
 "nbformat": 4,
 "nbformat_minor": 5
}
