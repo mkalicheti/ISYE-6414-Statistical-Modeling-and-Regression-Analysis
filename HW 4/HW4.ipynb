{
 "cells": [
  {
   "cell_type": "markdown",
   "id": "54b17457",
   "metadata": {},
   "source": [
    "# ISYE 6414 - HW4 #\n",
    "## Manvitha Kalicheti ##\n",
    "### gtID: 903838438 ###"
   ]
  },
  {
   "cell_type": "markdown",
   "id": "8df62136",
   "metadata": {},
   "source": [
    "<b> Antler Length Data <b/>"
   ]
  },
  {
   "cell_type": "code",
   "execution_count": 1,
   "id": "2ebde78e",
   "metadata": {},
   "outputs": [],
   "source": [
    "data = read.csv('homework04data01.csv')"
   ]
  },
  {
   "cell_type": "markdown",
   "id": "f75dc7f6",
   "metadata": {},
   "source": [
    "<b> Q1. <b/>"
   ]
  },
  {
   "cell_type": "code",
   "execution_count": 5,
   "id": "f4de8e5e",
   "metadata": {},
   "outputs": [
    {
     "data": {
      "image/png": "[encoded data removed]",
      "text/plain": [
       "Plot with title \"Different boxplots for each species\""
      ]
     },
     "metadata": {},
     "output_type": "display_data"
    }
   ],
   "source": [
    "options(repr.plot.width = 3.5, repr.plot.height = 3.5)\n",
    "boxplot(Length~Species,\n",
    "data=data,\n",
    "main=\"Different boxplots for each species\",\n",
    "xlab=\"Species\",\n",
    "ylab=\"Antler Length\")"
   ]
  },
  {
   "cell_type": "markdown",
   "id": "05fbfdd1",
   "metadata": {},
   "source": [
    "As we can see from the box plots, there is overlap between all 4 of the species, and it is hard to tell if the antler lengths of the four species are different. Although their means are clearly different, their variability is high.\n",
    "\n",
    "$\\newline$\n",
    "\n",
    "$\\newline$\n",
    "\n",
    "$\\newline$"
   ]
  },
  {
   "cell_type": "markdown",
   "id": "97847dbd",
   "metadata": {},
   "source": [
    "<b> Q2. <b/>"
   ]
  },
  {
   "cell_type": "code",
   "execution_count": 3,
   "id": "4ccd7c9c",
   "metadata": {},
   "outputs": [],
   "source": [
    "model = aov(Length ~ Species, data=data)"
   ]
  },
  {
   "cell_type": "code",
   "execution_count": 4,
   "id": "d0438edd",
   "metadata": {},
   "outputs": [
    {
     "data": {
      "text/plain": [
       "            Df Sum Sq Mean Sq F value   Pr(>F)    \n",
       "Species      3   90.0  30.001   8.121 8.58e-05 ***\n",
       "Residuals   81  299.2   3.694                     \n",
       "---\n",
       "Signif. codes:  0 '***' 0.001 '**' 0.01 '*' 0.05 '.' 0.1 ' ' 1"
      ]
     },
     "metadata": {},
     "output_type": "display_data"
    }
   ],
   "source": [
    "summary(model)"
   ]
  },
  {
   "cell_type": "code",
   "execution_count": 10,
   "id": "50d64a5c",
   "metadata": {},
   "outputs": [
    {
     "data": {
      "text/plain": [
       "Tables of means\n",
       "Grand mean\n",
       "         \n",
       "6.014706 \n",
       "\n",
       " Species \n",
       "         a      b      c      d\n",
       "     6.063  4.697  7.594  5.445\n",
       "rep 20.000 15.000 22.000 28.000"
      ]
     },
     "metadata": {},
     "output_type": "display_data"
    }
   ],
   "source": [
    "model.tables(model, type = 'means')"
   ]
  },
  {
   "cell_type": "markdown",
   "id": "d1159e87",
   "metadata": {},
   "source": [
    "$H_{o} : \\mu_{1} = \\mu_{2} = ... = \\mu_{k}$\n",
    "\n",
    "$H_{a} = $ some means are different\n",
    "\n",
    "$F_{0} = \\frac{MST_{R}}{MSE} = \\frac{30.001}{3.694} = 8.1215$\n",
    "\n",
    "From tables, $F_{\\alpha, k-1,N-k} = F_{0.05, 3, 81} = 2.7173$\n",
    "\n",
    "$F_{o} > $ critical $F$ $\\implies H_{o}$ can be rejected. Hence, some means are different.\n"
   ]
  },
  {
   "cell_type": "markdown",
   "id": "71bac3c8",
   "metadata": {},
   "source": [
    "<b>Q3.</b>\n",
    "\n",
    "From the model summary: \n",
    "\n",
    "\n",
    "SSE = 299.2\n",
    "\n",
    "SSTr = 90.0\n",
    "\n",
    "MSE = 3.694\n",
    "\n",
    "MSTr = 30.001\n",
    "\n",
    "$\\newline$\n",
    "\n",
    "$\\newline$\n",
    "\n",
    "$\\newline$\n",
    "\n",
    "$\\newline$\n",
    "\n"
   ]
  },
  {
   "cell_type": "markdown",
   "id": "c6f0bdd6",
   "metadata": {},
   "source": [
    "<b>Q4.</b>"
   ]
  },
  {
   "cell_type": "code",
   "execution_count": 5,
   "id": "82a51592",
   "metadata": {},
   "outputs": [
    {
     "data": {
      "text/plain": [
       "  Tukey multiple comparisons of means\n",
       "    95% family-wise confidence level\n",
       "\n",
       "Fit: aov(formula = Length ~ Species, data = data)\n",
       "\n",
       "$Species\n",
       "          diff         lwr        upr     p adj\n",
       "b-a -1.3656667 -3.08777369  0.3564404 0.1683081\n",
       "c-a  1.5306364 -0.02706805  3.0883408 0.0559481\n",
       "d-a -0.6176429 -2.09373459  0.8584489 0.6920003\n",
       "c-b  2.8963030  1.20807683  4.5845292 0.0001303\n",
       "d-b  0.7480238 -0.86520632  2.3612539 0.6183736\n",
       "d-c -2.1482792 -3.58469904 -0.7118594 0.0010291\n"
      ]
     },
     "metadata": {},
     "output_type": "display_data"
    }
   ],
   "source": [
    "TukeyHSD(model)"
   ]
  },
  {
   "cell_type": "markdown",
   "id": "8a82d904",
   "metadata": {},
   "source": [
    "\n",
    "c-b and d-c imply a difference in average antler length between species."
   ]
  },
  {
   "cell_type": "markdown",
   "id": "00fe550a",
   "metadata": {},
   "source": [
    "<b> Hospital Data<b/>"
   ]
  },
  {
   "cell_type": "code",
   "execution_count": 6,
   "id": "9450e139",
   "metadata": {},
   "outputs": [],
   "source": [
    "data1 = read.csv('homework04Hospital.csv')"
   ]
  },
  {
   "cell_type": "markdown",
   "id": "149c5976",
   "metadata": {},
   "source": [
    "<b>Q5.</b>"
   ]
  },
  {
   "cell_type": "code",
   "execution_count": 8,
   "id": "af19c971",
   "metadata": {},
   "outputs": [],
   "source": [
    "model1 = lm(Hours~.,data = data1)"
   ]
  },
  {
   "cell_type": "code",
   "execution_count": 9,
   "id": "f039591d",
   "metadata": {},
   "outputs": [
    {
     "data": {
      "text/plain": [
       "\n",
       "Call:\n",
       "lm(formula = Hours ~ ., data = data1)\n",
       "\n",
       "Residuals:\n",
       "    Min      1Q  Median      3Q     Max \n",
       "-677.23 -270.19   60.93  228.32  517.70 \n",
       "\n",
       "Coefficients:\n",
       "              Estimate Std. Error t value Pr(>|t|)    \n",
       "(Intercept) 1946.80204  504.18193   3.861  0.00226 ** \n",
       "Xray           0.03858    0.01304   2.958  0.01197 *  \n",
       "BedDays        1.03939    0.06756  15.386 2.91e-09 ***\n",
       "Length      -413.75780   98.59828  -4.196  0.00124 ** \n",
       "---\n",
       "Signif. codes:  0 '***' 0.001 '**' 0.01 '*' 0.05 '.' 0.1 ' ' 1\n",
       "\n",
       "Residual standard error: 387.2 on 12 degrees of freedom\n",
       "Multiple R-squared:  0.9961,\tAdjusted R-squared:  0.9952 \n",
       "F-statistic:  1028 on 3 and 12 DF,  p-value: 9.919e-15\n"
      ]
     },
     "metadata": {},
     "output_type": "display_data"
    }
   ],
   "source": [
    "summary(model1)"
   ]
  },
  {
   "cell_type": "markdown",
   "id": "35279a0d",
   "metadata": {},
   "source": [
    "$\\beta_O = 1946.80204$\n",
    "\n",
    "$\\beta_{Xray} = 0.03858$\n",
    "\n",
    "$\\beta_{BedDays} = 1.03939 $\n",
    "\n",
    "$\\beta_{Length} = -413.75780 $"
   ]
  },
  {
   "cell_type": "markdown",
   "id": "359d17df",
   "metadata": {},
   "source": [
    "<b>Q6.</b> \n",
    "\n",
    "When BedDays and Length are held constant, for every unit increase in Xray, Hours increase by 0.03858.\n",
    "\n",
    "When Xray and Length are held constant, for every unit increase in BedDays, Hours increase by 1.03939.\n",
    "\n",
    "When BedDays and Xray are held constant, for every unit increase in Length, Hours decrease by 413.75780.\n",
    "\n",
    "$B_{o} = 1946.80204$ is the mean value of Hours when all the other values are $0$."
   ]
  },
  {
   "cell_type": "markdown",
   "id": "fb06048c",
   "metadata": {},
   "source": [
    "<b>Q7.</b>\n",
    "\n",
    "For BedDays, p-value = 2.91e-09 << $\\alpha = 0.05 \\implies$ BedDays is statistically significant \n",
    "\n",
    "$H_0 : \\beta_{BedDays} = 0$\n",
    "\n",
    "$H_{a} :\\beta_{BedDays} \\neq 0$\n",
    "\n",
    "$t - value = 15.386$\n",
    "\n",
    "critical t = $t_{0.025, 12} = 2.179 $\n",
    "\n",
    "$|t - value| > $critical $t \\implies$ $H_{0}$ can be rejected $\\implies$ BedDays is statistically significant.\n",
    "\n",
    "$\\newline$\n",
    "$\\newline$\n",
    "$\\newline$\n",
    "$\\newline$\n",
    "$\\newline$"
   ]
  },
  {
   "cell_type": "markdown",
   "id": "28badd9f",
   "metadata": {},
   "source": [
    "<b>Q8.</b>\n",
    "\n",
    "For Xray, $p-value = 0.01197$\n",
    "\n",
    "With $\\alpha = 0.05$, Xray is statistically significant as $p-value<\\alpha$.\n",
    "\n",
    "But with $\\alpha = 0.01$, Xray is not statistically significant as $p-value>\\alpha$."
   ]
  },
  {
   "cell_type": "markdown",
   "id": "74cdbcf7",
   "metadata": {},
   "source": [
    "<b>Q9.</b>\n",
    "\n",
    "For Length, $p-value = 0.00124$\n",
    "\n",
    "With $\\alpha = 0.05$, Length is statistically significant as $p-value<\\alpha$.\n",
    "\n",
    "With $\\alpha = 0.10$, Length is statistically significant as $p-value<\\alpha$."
   ]
  }
 ],
 "metadata": {
  "kernelspec": {
   "display_name": "R",
   "language": "R",
   "name": "ir"
  },
  "language_info": {
   "codemirror_mode": "r",
   "file_extension": ".r",
   "mimetype": "text/x-r-source",
   "name": "R",
   "pygments_lexer": "r",
   "version": "3.6.1"
  }
 },
 "nbformat": 4,
 "nbformat_minor": 5
}
