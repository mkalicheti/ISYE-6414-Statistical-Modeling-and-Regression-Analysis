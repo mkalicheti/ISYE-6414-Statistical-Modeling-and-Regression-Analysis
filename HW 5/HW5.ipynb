{
 "cells": [
  {
   "cell_type": "markdown",
   "id": "54b17457",
   "metadata": {},
   "source": [
    "# ISYE 6414 - HW 5 #\n",
    "## Manvitha Kalicheti ##\n",
    "### gtID: 903838438 ###"
   ]
  },
  {
   "cell_type": "code",
   "execution_count": 2,
   "id": "c4f339bf",
   "metadata": {},
   "outputs": [],
   "source": [
    "data = read.csv('HW5ShipmentData.csv')"
   ]
  },
  {
   "cell_type": "markdown",
   "id": "4843961c",
   "metadata": {},
   "source": [
    "<b> Q1 <b/>"
   ]
  },
  {
   "cell_type": "code",
   "execution_count": 3,
   "id": "ee5532bd",
   "metadata": {},
   "outputs": [
    {
     "data": {
      "image/png": "[encoded data removed]",
      "text/plain": [
       "plot without title"
      ]
     },
     "metadata": {},
     "output_type": "display_data"
    }
   ],
   "source": [
    "options(repr.plot.width = 4.5, repr.plot.height = 4.5)\n",
    "plot(data)"
   ]
  },
  {
   "cell_type": "markdown",
   "id": "27a252ee",
   "metadata": {},
   "source": [
    "It looks like Cost and Weight, and Cost and Distance have a vaguely linear trend. No visible trend between Weight and Distance."
   ]
  },
  {
   "cell_type": "markdown",
   "id": "bbb95de3",
   "metadata": {},
   "source": [
    "<b> Q2 <b/>"
   ]
  },
  {
   "cell_type": "code",
   "execution_count": 4,
   "id": "c71523c9",
   "metadata": {},
   "outputs": [],
   "source": [
    "Cost = data[,1]\n",
    "Weight = data[,2]\n",
    "Distance = data[,3]"
   ]
  },
  {
   "cell_type": "code",
   "execution_count": 5,
   "id": "dc0d9dc2",
   "metadata": {},
   "outputs": [],
   "source": [
    "model = lm(Cost ~ Weight + Distance, data = data)"
   ]
  },
  {
   "cell_type": "code",
   "execution_count": 6,
   "id": "26c7ef32",
   "metadata": {},
   "outputs": [
    {
     "data": {
      "text/plain": [
       "\n",
       "Call:\n",
       "lm(formula = Cost ~ Weight + Distance, data = data)\n",
       "\n",
       "Residuals:\n",
       "   Min     1Q Median     3Q    Max \n",
       "-2.239 -1.101 -0.129  1.283  2.313 \n",
       "\n",
       "Coefficients:\n",
       "             Estimate Std. Error t value Pr(>|t|)    \n",
       "(Intercept) -4.672757   0.891147  -5.244 6.60e-05 ***\n",
       "Weight       1.292414   0.137842   9.376 3.95e-08 ***\n",
       "Distance     0.036936   0.004602   8.026 3.49e-07 ***\n",
       "---\n",
       "Signif. codes:  0 '***' 0.001 '**' 0.01 '*' 0.05 '.' 0.1 ' ' 1\n",
       "\n",
       "Residual standard error: 1.493 on 17 degrees of freedom\n",
       "Multiple R-squared:  0.9162,\tAdjusted R-squared:  0.9063 \n",
       "F-statistic: 92.89 on 2 and 17 DF,  p-value: 7.066e-10\n"
      ]
     },
     "metadata": {},
     "output_type": "display_data"
    }
   ],
   "source": [
    "summary(model)"
   ]
  },
  {
   "cell_type": "markdown",
   "id": "6b902c01",
   "metadata": {},
   "source": [
    "First order model: $y = \\beta_{0} + \\beta_{1}x_{1}+\\beta_{2}x_{2}+\\epsilon$\n",
    "\n",
    "From the model summary, we get \n",
    "\n",
    "$\\beta_{0} = -4.673, \\beta_{1} = \\beta_{Weight} = 1.292, \\beta_{2} = \\beta_{Distance} = 0.037$"
   ]
  },
  {
   "cell_type": "code",
   "execution_count": 7,
   "id": "be2cb9b6",
   "metadata": {},
   "outputs": [],
   "source": [
    "modelaov = aov(Cost ~ ., data=data)"
   ]
  },
  {
   "cell_type": "code",
   "execution_count": 8,
   "id": "07a409a8",
   "metadata": {},
   "outputs": [
    {
     "data": {
      "text/plain": [
       "            Df Sum Sq Mean Sq F value   Pr(>F)    \n",
       "Weight       1  270.6  270.55  121.35 3.68e-09 ***\n",
       "Distance     1  143.6  143.63   64.42 3.49e-07 ***\n",
       "Residuals   17   37.9    2.23                     \n",
       "---\n",
       "Signif. codes:  0 '***' 0.001 '**' 0.01 '*' 0.05 '.' 0.1 ' ' 1"
      ]
     },
     "metadata": {},
     "output_type": "display_data"
    }
   ],
   "source": [
    "summary(modelaov)"
   ]
  },
  {
   "cell_type": "markdown",
   "id": "b2d63179",
   "metadata": {},
   "source": [
    "From linear model, $F_0 = 92.89$\n",
    "\n",
    "From table, $F_{\\alpha, k-1,N-k-1} = F_{0.05, 1, 17}=4.451$\n",
    "\n",
    "As $F_{0} >> F_{\\alpha, k-1,N-k-1}$, the model as a whole is significant. \n",
    "\n",
    "The p-values for all 3 $\\beta$s is $<<\\alpha = 0.05 \\implies$ all $\\beta$s are significant. "
   ]
  },
  {
   "cell_type": "markdown",
   "id": "d3d5f8eb",
   "metadata": {},
   "source": [
    "<b> Q3 <b/>"
   ]
  },
  {
   "cell_type": "markdown",
   "id": "f1c2ce24",
   "metadata": {},
   "source": [
    "From ANOVA\n",
    "\n",
    "$R^2 = SSR/SST = (270.6+143.6)/(270.6+143.6+37.9) = 414.2/452.1 = 0.91616$"
   ]
  },
  {
   "cell_type": "code",
   "execution_count": 9,
   "id": "4f5c43c5",
   "metadata": {},
   "outputs": [
    {
     "data": {
      "text/html": [
       "0.916163885197602"
      ],
      "text/latex": [
       "0.916163885197602"
      ],
      "text/markdown": [
       "0.916163885197602"
      ],
      "text/plain": [
       "[1] 0.9161639"
      ]
     },
     "metadata": {},
     "output_type": "display_data"
    }
   ],
   "source": [
    "summary(model)$r.squared #from linear model"
   ]
  },
  {
   "cell_type": "markdown",
   "id": "3e005b91",
   "metadata": {},
   "source": [
    "$R^2$ from our calculation using ANOVA table quantities matches the $R^2$ from model summary."
   ]
  },
  {
   "cell_type": "markdown",
   "id": "33bbdf0f",
   "metadata": {},
   "source": [
    "<b> Q4 <b/> "
   ]
  },
  {
   "cell_type": "code",
   "execution_count": 24,
   "id": "6fd90066",
   "metadata": {},
   "outputs": [
    {
     "data": {
      "text/html": [
       "3.61147743654922e-17"
      ],
      "text/latex": [
       "3.61147743654922e-17"
      ],
      "text/markdown": [
       "3.61147743654922e-17"
      ],
      "text/plain": [
       "[1] 3.611477e-17"
      ]
     },
     "metadata": {},
     "output_type": "display_data"
    }
   ],
   "source": [
    "res = resid(model)\n",
    "mean(res)"
   ]
  },
  {
   "cell_type": "markdown",
   "id": "99b981ca",
   "metadata": {},
   "source": [
    "Expectation (or in this case, mean) of the residuals is nearly zero. "
   ]
  },
  {
   "cell_type": "code",
   "execution_count": 37,
   "id": "71b3374e",
   "metadata": {},
   "outputs": [
    {
     "data": {
      "image/png": "[encoded data removed]",
      "text/plain": [
       "plot without title"
      ]
     },
     "metadata": {},
     "output_type": "display_data"
    }
   ],
   "source": [
    "options(repr.plot.width = 3, repr.plot.height = 3)\n",
    "plot(fitted(model), res)\n",
    "abline(0,0)"
   ]
  },
  {
   "cell_type": "markdown",
   "id": "57b5c4ff",
   "metadata": {},
   "source": [
    "The residuals follow a 'V' like trend $\\implies$ they are not of constant variance. "
   ]
  },
  {
   "cell_type": "code",
   "execution_count": 26,
   "id": "3e9f390c",
   "metadata": {},
   "outputs": [
    {
     "data": {
      "image/png": "[encoded data removed]",
      "text/plain": [
       "Plot with title \"Normal Q-Q Plot\""
      ]
     },
     "metadata": {},
     "output_type": "display_data"
    }
   ],
   "source": [
    "options(repr.plot.width = 3, repr.plot.height = 3)\n",
    "qqnorm(res)\n",
    "qqline(res)"
   ]
  },
  {
   "cell_type": "markdown",
   "id": "77a5febb",
   "metadata": {},
   "source": [
    "Residuals stray away from the straight line towards the ends $\\implies$ they are not normally distributed."
   ]
  },
  {
   "cell_type": "markdown",
   "id": "3908435d",
   "metadata": {},
   "source": [
    "<b> Q5 <b/>"
   ]
  },
  {
   "cell_type": "code",
   "execution_count": 27,
   "id": "152d8679",
   "metadata": {},
   "outputs": [
    {
     "data": {
      "text/html": [
       "<table>\n",
       "<thead><tr><th scope=col>fit</th><th scope=col>lwr</th><th scope=col>upr</th></tr></thead>\n",
       "<tbody>\n",
       "\t<tr><td>8.622054</td><td>7.710552</td><td>9.533557</td></tr>\n",
       "</tbody>\n",
       "</table>\n"
      ],
      "text/latex": [
       "\\begin{tabular}{r|lll}\n",
       " fit & lwr & upr\\\\\n",
       "\\hline\n",
       "\t 8.622054 & 7.710552 & 9.533557\\\\\n",
       "\\end{tabular}\n"
      ],
      "text/markdown": [
       "\n",
       "| fit | lwr | upr |\n",
       "|---|---|---|\n",
       "| 8.622054 | 7.710552 | 9.533557 |\n",
       "\n"
      ],
      "text/plain": [
       "  fit      lwr      upr     \n",
       "1 8.622054 7.710552 9.533557"
      ]
     },
     "metadata": {},
     "output_type": "display_data"
    }
   ],
   "source": [
    "new = data.frame(Weight = 6, Distance = 150)\n",
    "predict.lm(model, new, interval = \"confidence\", level = 0.95)"
   ]
  },
  {
   "cell_type": "markdown",
   "id": "f2c2800a",
   "metadata": {},
   "source": [
    "We can say with $95\\%$ confidence that the estimated value of the cost of shipment lies between $\\$7.711$ and $\\$9.534$ for package weight of $6$ pounds and when distance shipped is $150$ miles."
   ]
  },
  {
   "cell_type": "markdown",
   "id": "a8e44231",
   "metadata": {},
   "source": [
    "<b> Q6 <b/>"
   ]
  },
  {
   "cell_type": "code",
   "execution_count": 28,
   "id": "e6684c27",
   "metadata": {},
   "outputs": [
    {
     "data": {
      "text/html": [
       "<table>\n",
       "<thead><tr><th scope=col>fit</th><th scope=col>lwr</th><th scope=col>upr</th></tr></thead>\n",
       "<tbody>\n",
       "\t<tr><td>8.622054</td><td>5.34258 </td><td>11.90153</td></tr>\n",
       "</tbody>\n",
       "</table>\n"
      ],
      "text/latex": [
       "\\begin{tabular}{r|lll}\n",
       " fit & lwr & upr\\\\\n",
       "\\hline\n",
       "\t 8.622054 & 5.34258  & 11.90153\\\\\n",
       "\\end{tabular}\n"
      ],
      "text/markdown": [
       "\n",
       "| fit | lwr | upr |\n",
       "|---|---|---|\n",
       "| 8.622054 | 5.34258  | 11.90153 |\n",
       "\n"
      ],
      "text/plain": [
       "  fit      lwr     upr     \n",
       "1 8.622054 5.34258 11.90153"
      ]
     },
     "metadata": {},
     "output_type": "display_data"
    }
   ],
   "source": [
    "predict.lm(model, new, interval = \"prediction\", level = 0.95)"
   ]
  },
  {
   "cell_type": "markdown",
   "id": "a5a1cc41",
   "metadata": {},
   "source": [
    "We can say with $95\\%$ confidence that the predicted value of the cost of shipment lies between $\\$5.343$ and $\\$11.9015$ for package weight of $6$ pounds and when distance shipped is $150$ miles."
   ]
  },
  {
   "cell_type": "markdown",
   "id": "376e25e1",
   "metadata": {},
   "source": [
    "<b> Q7 <b/>"
   ]
  },
  {
   "cell_type": "code",
   "execution_count": 29,
   "id": "ce9d747a",
   "metadata": {},
   "outputs": [],
   "source": [
    "fullmodel = lm(Cost ~ polym(Weight, Distance, degree = 2))"
   ]
  },
  {
   "cell_type": "code",
   "execution_count": 30,
   "id": "da7dde33",
   "metadata": {},
   "outputs": [
    {
     "data": {
      "text/html": [
       "<table>\n",
       "<thead><tr><th scope=col>Res.Df</th><th scope=col>RSS</th><th scope=col>Df</th><th scope=col>Sum of Sq</th><th scope=col>F</th><th scope=col>Pr(&gt;F)</th></tr></thead>\n",
       "<tbody>\n",
       "\t<tr><td>17          </td><td>37.901092   </td><td>NA          </td><td>      NA    </td><td>      NA    </td><td>          NA</td></tr>\n",
       "\t<tr><td>14          </td><td> 2.744738   </td><td> 3          </td><td>35.15635    </td><td>59.77363    </td><td>3.176466e-08</td></tr>\n",
       "</tbody>\n",
       "</table>\n"
      ],
      "text/latex": [
       "\\begin{tabular}{r|llllll}\n",
       " Res.Df & RSS & Df & Sum of Sq & F & Pr(>F)\\\\\n",
       "\\hline\n",
       "\t 17           & 37.901092    & NA           &       NA     &       NA     &           NA\\\\\n",
       "\t 14           &  2.744738    &  3           & 35.15635     & 59.77363     & 3.176466e-08\\\\\n",
       "\\end{tabular}\n"
      ],
      "text/markdown": [
       "\n",
       "| Res.Df | RSS | Df | Sum of Sq | F | Pr(>F) |\n",
       "|---|---|---|---|---|---|\n",
       "| 17           | 37.901092    | NA           |       NA     |       NA     |           NA |\n",
       "| 14           |  2.744738    |  3           | 35.15635     | 59.77363     | 3.176466e-08 |\n",
       "\n"
      ],
      "text/plain": [
       "  Res.Df RSS       Df Sum of Sq F        Pr(>F)      \n",
       "1 17     37.901092 NA       NA        NA           NA\n",
       "2 14      2.744738  3 35.15635  59.77363 3.176466e-08"
      ]
     },
     "metadata": {},
     "output_type": "display_data"
    }
   ],
   "source": [
    "anova(model, fullmodel)"
   ]
  },
  {
   "cell_type": "markdown",
   "id": "8af10762",
   "metadata": {},
   "source": [
    "$H_{0}:$ All coefficients missing in the reduced model are $0$.\n",
    "\n",
    "$H_{a}:$ Atleast one of the coefficients missing in the reduced model is non zero. \n",
    "\n",
    "From the ANOVA table, the F-statistic is $59.7763$ and the p-value is nearly $0$.\n",
    "\n",
    "From the tables, $F_{0.05,17,14} = 2.4282 << F-statistic$. \n",
    "\n",
    "Clearly, $H_{0}$ can be rejected $\\implies$ the full model is better than the reduced model."
   ]
  },
  {
   "cell_type": "code",
   "execution_count": 31,
   "id": "a19a2d0f",
   "metadata": {},
   "outputs": [],
   "source": [
    "data1 = read.csv('HW5StateCostData.csv')\n",
    "COST = data1[,1]\n",
    "STATE = data1[,2]"
   ]
  },
  {
   "cell_type": "markdown",
   "id": "dbcd3be0",
   "metadata": {},
   "source": [
    "<b> Q8 <b/>"
   ]
  },
  {
   "cell_type": "code",
   "execution_count": 32,
   "id": "754eb59d",
   "metadata": {},
   "outputs": [],
   "source": [
    "model1 = lm(COST ~ STATE, data = data1)"
   ]
  },
  {
   "cell_type": "code",
   "execution_count": 33,
   "id": "6c67e7ce",
   "metadata": {
    "scrolled": true
   },
   "outputs": [
    {
     "data": {
      "text/plain": [
       "\n",
       "Call:\n",
       "lm(formula = COST ~ STATE, data = data1)\n",
       "\n",
       "Residuals:\n",
       "    Min      1Q  Median      3Q     Max \n",
       "-299.80  -95.83  -37.90  153.32  295.20 \n",
       "\n",
       "Coefficients:\n",
       "              Estimate Std. Error t value Pr(>|t|)    \n",
       "(Intercept)     279.60      53.43   5.233 1.63e-05 ***\n",
       "STATEKentucky    80.30      75.56   1.063   0.2973    \n",
       "STATETexas      198.20      75.56   2.623   0.0141 *  \n",
       "---\n",
       "Signif. codes:  0 '***' 0.001 '**' 0.01 '*' 0.05 '.' 0.1 ' ' 1\n",
       "\n",
       "Residual standard error: 168.9 on 27 degrees of freedom\n",
       "Multiple R-squared:  0.205,\tAdjusted R-squared:  0.1462 \n",
       "F-statistic: 3.482 on 2 and 27 DF,  p-value: 0.04515\n"
      ]
     },
     "metadata": {},
     "output_type": "display_data"
    }
   ],
   "source": [
    "summary(model1)"
   ]
  },
  {
   "cell_type": "markdown",
   "id": "5d6805b4",
   "metadata": {},
   "source": [
    "The base level is the state of Kansas. With p-value of 0.04515 < $\\alpha = 0.05$, this linear regression model with qualitative variable 'State' is significant. "
   ]
  },
  {
   "cell_type": "code",
   "execution_count": 34,
   "id": "60810cf1",
   "metadata": {},
   "outputs": [
    {
     "data": {
      "text/plain": [
       "            Df Sum Sq Mean Sq F value Pr(>F)  \n",
       "STATE        2 198772   99386   3.482 0.0452 *\n",
       "Residuals   27 770671   28543                 \n",
       "---\n",
       "Signif. codes:  0 '***' 0.001 '**' 0.01 '*' 0.05 '.' 0.1 ' ' 1"
      ]
     },
     "metadata": {},
     "output_type": "display_data"
    }
   ],
   "source": [
    "aovcat = aov(COST ~ STATE, data = data1)\n",
    "summary(aovcat)"
   ]
  },
  {
   "cell_type": "markdown",
   "id": "ca167496",
   "metadata": {},
   "source": [
    "$H_{0}:$ STATE is significant.\n",
    "\n",
    "$H_{a}:$ STATE is not significant.\n",
    "\n",
    "From the ANOVA table, the F-statistic is $3.482$ and the p-value is nearly $0.0452 < \\alpha = 0.5$.\n",
    "\n",
    "From the tables, $F_{0.05,2, 27} = 3.354 < F-statistic$. \n",
    "\n",
    "$H_{0}$ can be rejected $\\implies$ the qualitative variable State with three categories is significant."
   ]
  },
  {
   "cell_type": "markdown",
   "id": "7d8a6437",
   "metadata": {},
   "source": [
    "<b> Q9 <b/>"
   ]
  },
  {
   "cell_type": "code",
   "execution_count": 35,
   "id": "312c426e",
   "metadata": {},
   "outputs": [
    {
     "data": {
      "text/html": [
       "<table>\n",
       "<thead><tr><th></th><th scope=col>Kentucky</th><th scope=col>Texas</th></tr></thead>\n",
       "<tbody>\n",
       "\t<tr><th scope=row>Kansas</th><td>0</td><td>0</td></tr>\n",
       "\t<tr><th scope=row>Kentucky</th><td>1</td><td>0</td></tr>\n",
       "\t<tr><th scope=row>Texas</th><td>0</td><td>1</td></tr>\n",
       "</tbody>\n",
       "</table>\n"
      ],
      "text/latex": [
       "\\begin{tabular}{r|ll}\n",
       "  & Kentucky & Texas\\\\\n",
       "\\hline\n",
       "\tKansas & 0 & 0\\\\\n",
       "\tKentucky & 1 & 0\\\\\n",
       "\tTexas & 0 & 1\\\\\n",
       "\\end{tabular}\n"
      ],
      "text/markdown": [
       "\n",
       "| <!--/--> | Kentucky | Texas |\n",
       "|---|---|---|\n",
       "| Kansas | 0 | 0 |\n",
       "| Kentucky | 1 | 0 |\n",
       "| Texas | 0 | 1 |\n",
       "\n"
      ],
      "text/plain": [
       "         Kentucky Texas\n",
       "Kansas   0        0    \n",
       "Kentucky 1        0    \n",
       "Texas    0        1    "
      ]
     },
     "metadata": {},
     "output_type": "display_data"
    }
   ],
   "source": [
    "contrasts(COST)"
   ]
  },
  {
   "cell_type": "markdown",
   "id": "9572c7a8",
   "metadata": {},
   "source": [
    "The above table shows the dummy variables used in the model and their values for the states. \n",
    "\n",
    "Model: $y = \\beta_{0} + \\beta_{Kentucky} + \\beta_{Texas} + \\epsilon$\n",
    "\n",
    "$y = 279.60 + 80.30 x_{1} + 198.20x_{2} + \\epsilon$ where $x_{1}$ and $x_{2}$ are described by the columns Kentucky and Texas in the table above. \n",
    "\n",
    "$\\beta_{0} = 279.60$ corresponds to mean annual maintenance costs accrued by the system users in Kansas."
   ]
  },
  {
   "cell_type": "markdown",
   "id": "e0d58e74",
   "metadata": {},
   "source": [
    "<b> Q10 <b/>"
   ]
  },
  {
   "cell_type": "markdown",
   "id": "d72266cf",
   "metadata": {},
   "source": [
    "From the model summary in Q8, with $p-value = 0.0141 < \\alpha = 0.05$, we see that there is a significant difference in the mean annual maintenance costs accrued by the system users in Kansas and Texas. With $p-value = 0.2973 > \\alpha = 0.05$, we see that there isn't a significant difference in the mean annual maintenance costs accrued by the system users in Kansas and Kentucky. This is further validated by the tukey table below."
   ]
  },
  {
   "cell_type": "code",
   "execution_count": 36,
   "id": "88a7afe9",
   "metadata": {},
   "outputs": [
    {
     "data": {
      "text/plain": [
       "  Tukey multiple comparisons of means\n",
       "    95% family-wise confidence level\n",
       "\n",
       "Fit: aov(formula = COST ~ STATE, data = data1)\n",
       "\n",
       "$STATE\n",
       "                 diff       lwr      upr     p adj\n",
       "Kentucky-Kansas  80.3 -107.0343 267.6343 0.5447834\n",
       "Texas-Kansas    198.2   10.8657 385.5343 0.0365147\n",
       "Texas-Kentucky  117.9  -69.4343 305.2343 0.2797413\n"
      ]
     },
     "metadata": {},
     "output_type": "display_data"
    }
   ],
   "source": [
    "TukeyHSD(aovcat)"
   ]
  },
  {
   "cell_type": "markdown",
   "id": "9110c3a7",
   "metadata": {},
   "source": [
    "With an adjusted $p-value = 0.0365 < \\alpha = 0.05$, we see that the difference between expected costs in Texas and Kansas is significant, while the difference between Kentucky and Texas or Kentucky and Kansas is not significant."
   ]
  }
 ],
 "metadata": {
  "kernelspec": {
   "display_name": "R",
   "language": "R",
   "name": "ir"
  },
  "language_info": {
   "codemirror_mode": "r",
   "file_extension": ".r",
   "mimetype": "text/x-r-source",
   "name": "R",
   "pygments_lexer": "r",
   "version": "3.6.1"
  }
 },
 "nbformat": 4,
 "nbformat_minor": 5
}
